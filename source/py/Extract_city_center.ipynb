{
 "cells": [
  {
   "cell_type": "code",
   "execution_count": 1,
   "id": "162358e6-864c-4d93-8970-06e7bce74493",
   "metadata": {
    "tags": []
   },
   "outputs": [
    {
     "name": "stderr",
     "output_type": "stream",
     "text": [
      "C:\\Users\\hassa\\AppData\\Local\\Temp\\ipykernel_37324\\3561564496.py:1: UserWarning: Shapely 2.0 is installed, but because PyGEOS is also installed, GeoPandas will still use PyGEOS by default for now. To force to use and test Shapely 2.0, you have to set the environment variable USE_PYGEOS=0. You can do this before starting the Python process, or in your code before importing geopandas:\n",
      "\n",
      "import os\n",
      "os.environ['USE_PYGEOS'] = '0'\n",
      "import geopandas\n",
      "\n",
      "In a future release, GeoPandas will switch to using Shapely by default. If you are using PyGEOS directly (calling PyGEOS functions on geometries from GeoPandas), this will then stop working and you are encouraged to migrate from PyGEOS to Shapely 2.0 (https://shapely.readthedocs.io/en/latest/migration_pygeos.html).\n",
      "  import geopandas as gpd\n"
     ]
    }
   ],
   "source": [
    "import geopandas as gpd\n",
    "from geopy.geocoders import Nominatim\n",
    "from geopy.distance import geodesic\n",
    "from shapely.geometry import Point, LineString\n",
    "\n",
    "from shapely.geometry import Point\n",
    "from pyproj import Transformer"
   ]
  },
  {
   "cell_type": "code",
   "execution_count": 2,
   "id": "d1aad22f-26eb-4491-b527-1bb0446078f6",
   "metadata": {
    "tags": []
   },
   "outputs": [],
   "source": [
    "# Use geopy to get the latitude and longitude of Amsterdam's center\n",
    "geolocator = Nominatim(user_agent='my_application')\n",
    "# Use geopy to get the latitude and longitude of a specific address in Amsterdam\n",
    "location = geolocator.geocode('Dam Square, Amsterdam, Netherlands')\n",
    "center_lat, center_lon = location.latitude, location.longitude"
   ]
  },
  {
   "cell_type": "code",
   "execution_count": 3,
   "id": "13880a44-4464-47e4-ad71-aad07510f428",
   "metadata": {
    "tags": []
   },
   "outputs": [
    {
     "name": "stdout",
     "output_type": "stream",
     "text": [
      "POINT (121312.06176195163 487378.06306438753)\n"
     ]
    }
   ],
   "source": [
    "# Define the original CRS and the target CRS\n",
    "crs_orig = 'EPSG:4326'  # WGS84\n",
    "crs_target = 'EPSG:28992'  # Web Mercator\n",
    "\n",
    "# Define the coordinates of the point in the original CRS\n",
    "center_lat = center_lat\n",
    "center_lon = center_lon\n",
    "\n",
    "# Create a Point object from the coordinates\n",
    "city_center = Point(center_lon, center_lat)\n",
    "\n",
    "# Define the transformation function\n",
    "transformer = Transformer.from_crs(crs_orig, crs_target, always_xy=True)\n",
    "\n",
    "# Transform the point to the target CRS\n",
    "city_center_transformed = transformer.transform(center_lon, center_lat)\n",
    "city_center_transformed = Point(city_center_transformed)\n",
    "\n",
    "# Print the transformed coordinates\n",
    "print(city_center_transformed)"
   ]
  },
  {
   "cell_type": "code",
   "execution_count": 4,
   "id": "c8636e3a-1924-441c-b958-c797ef831c91",
   "metadata": {
    "tags": []
   },
   "outputs": [],
   "source": [
    "# Create a geopandas dataframe with a single row containing the point\n",
    "gdf = gpd.GeoDataFrame(geometry=[city_center_transformed])"
   ]
  },
  {
   "cell_type": "code",
   "execution_count": 5,
   "id": "4d0cec6c-8dfe-4c68-beb6-e23083a5ea8d",
   "metadata": {
    "tags": []
   },
   "outputs": [],
   "source": [
    "# Save the GeoDataFrame to a new shapefile\n",
    "gdf.to_file('Data/gdf_city_center.shp', driver='ESRI Shapefile')"
   ]
  }
 ],
 "metadata": {
  "kernelspec": {
   "display_name": "Python 3 (ipykernel)",
   "language": "python",
   "name": "python3"
  },
  "language_info": {
   "codemirror_mode": {
    "name": "ipython",
    "version": 3
   },
   "file_extension": ".py",
   "mimetype": "text/x-python",
   "name": "python",
   "nbconvert_exporter": "python",
   "pygments_lexer": "ipython3",
   "version": "3.10.9"
  }
 },
 "nbformat": 4,
 "nbformat_minor": 5
}
