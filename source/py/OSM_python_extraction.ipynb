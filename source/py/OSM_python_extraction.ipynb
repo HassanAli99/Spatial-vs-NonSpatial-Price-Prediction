{
 "cells": [
  {
   "cell_type": "markdown",
   "id": "56b7d1e1-4b84-479c-ad7c-6c8c6f633794",
   "metadata": {},
   "source": [
    "# Extract Spatia data From OSM"
   ]
  },
  {
   "cell_type": "code",
   "execution_count": 3,
   "id": "a8e8d98d-7c18-46e8-a7ca-2c03b6c19b42",
   "metadata": {
    "tags": []
   },
   "outputs": [],
   "source": [
    "#Import libraries\n",
    "import pandas as pd\n",
    "import osmnx as ox\n",
    "import geopandas as gpd"
   ]
  },
  {
   "cell_type": "code",
   "execution_count": 4,
   "id": "fdd31a64-9a79-498e-b1f4-953c5bb1141e",
   "metadata": {
    "tags": []
   },
   "outputs": [],
   "source": [
    "place_name = \"Amsterdam\"\n",
    "\n",
    "# Get place boundary related to the place name as a geodataframe\n",
    "place = ox.geocode_to_gdf(place_name)"
   ]
  },
  {
   "cell_type": "code",
   "execution_count": 5,
   "id": "8314652f-c130-46ab-ad80-df20e3893697",
   "metadata": {},
   "outputs": [
    {
     "data": {
      "text/html": [
       "<div>\n",
       "<style scoped>\n",
       "    .dataframe tbody tr th:only-of-type {\n",
       "        vertical-align: middle;\n",
       "    }\n",
       "\n",
       "    .dataframe tbody tr th {\n",
       "        vertical-align: top;\n",
       "    }\n",
       "\n",
       "    .dataframe thead th {\n",
       "        text-align: right;\n",
       "    }\n",
       "</style>\n",
       "<table border=\"1\" class=\"dataframe\">\n",
       "  <thead>\n",
       "    <tr style=\"text-align: right;\">\n",
       "      <th></th>\n",
       "      <th>geometry</th>\n",
       "      <th>bbox_north</th>\n",
       "      <th>bbox_south</th>\n",
       "      <th>bbox_east</th>\n",
       "      <th>bbox_west</th>\n",
       "      <th>place_id</th>\n",
       "      <th>osm_type</th>\n",
       "      <th>osm_id</th>\n",
       "      <th>lat</th>\n",
       "      <th>lon</th>\n",
       "      <th>display_name</th>\n",
       "      <th>class</th>\n",
       "      <th>type</th>\n",
       "      <th>importance</th>\n",
       "    </tr>\n",
       "  </thead>\n",
       "  <tbody>\n",
       "    <tr>\n",
       "      <th>0</th>\n",
       "      <td>MULTIPOLYGON (((4.72876 52.40071, 4.73371 52.4...</td>\n",
       "      <td>52.431064</td>\n",
       "      <td>52.278174</td>\n",
       "      <td>5.079162</td>\n",
       "      <td>4.728756</td>\n",
       "      <td>350319191</td>\n",
       "      <td>relation</td>\n",
       "      <td>271110</td>\n",
       "      <td>52.37308</td>\n",
       "      <td>4.892453</td>\n",
       "      <td>Amsterdam, North Holland, Netherlands</td>\n",
       "      <td>boundary</td>\n",
       "      <td>administrative</td>\n",
       "      <td>0.836813</td>\n",
       "    </tr>\n",
       "  </tbody>\n",
       "</table>\n",
       "</div>"
      ],
      "text/plain": [
       "                                            geometry  bbox_north  bbox_south  \\\n",
       "0  MULTIPOLYGON (((4.72876 52.40071, 4.73371 52.4...   52.431064   52.278174   \n",
       "\n",
       "   bbox_east  bbox_west   place_id  osm_type  osm_id       lat       lon  \\\n",
       "0   5.079162   4.728756  350319191  relation  271110  52.37308  4.892453   \n",
       "\n",
       "                            display_name     class            type  importance  \n",
       "0  Amsterdam, North Holland, Netherlands  boundary  administrative    0.836813  "
      ]
     },
     "execution_count": 5,
     "metadata": {},
     "output_type": "execute_result"
    }
   ],
   "source": [
    "place"
   ]
  },
  {
   "cell_type": "markdown",
   "id": "241918c9-c619-4008-b986-cb70a2107323",
   "metadata": {
    "tags": []
   },
   "source": [
    "## Restaurants"
   ]
  },
  {
   "cell_type": "code",
   "execution_count": 6,
   "id": "8f1a67d0-208a-44ce-ad0a-754307b0bf8b",
   "metadata": {
    "tags": []
   },
   "outputs": [],
   "source": [
    "# Define the tags to search for (in this case, 'amenity' = 'school')\n",
    "tags = {'amenity': 'restaurant'}\n",
    "\n",
    "# Extract restaurants in the place boundary and store as a GeoDataFrame\n",
    "restaurants = ox.geometries.geometries_from_polygon(place.geometry.iloc[0], tags)\n",
    "\n",
    "restaurants.to_csv(\"Data_2.0/restaurants.csv\")"
   ]
  },
  {
   "cell_type": "markdown",
   "id": "a4c3e75a-de0c-4adf-adbe-1525477f4772",
   "metadata": {
    "tags": []
   },
   "source": [
    "## Bicycle_rental"
   ]
  },
  {
   "cell_type": "code",
   "execution_count": 35,
   "id": "cdadbac4-c86a-4096-b1fe-52d5f4eb2292",
   "metadata": {
    "tags": []
   },
   "outputs": [],
   "source": [
    "tag_bicycle_rental = {'amenity': \"bicycle_rental\"}\n",
    "\n",
    "# Extract bicycle_rental in the place boundary and store as a GeoDataFrame\n",
    "gdf_bicycle_rental = ox.geometries.geometries_from_polygon(place.geometry.iloc[0], tag_bicycle_rental)\n",
    "\n",
    "gdf_bicycle_rental.to_csv(\"Data_2.0/bicycle_rental.csv\")"
   ]
  },
  {
   "cell_type": "markdown",
   "id": "4bc8f209-64f4-4d3b-952e-9da37a7f2af4",
   "metadata": {
    "tags": []
   },
   "source": [
    "## Nightclub"
   ]
  },
  {
   "cell_type": "code",
   "execution_count": 7,
   "id": "c65de259-c133-45df-8439-cc45ebe634ad",
   "metadata": {
    "tags": []
   },
   "outputs": [],
   "source": [
    "tag_nightclub = {'amenity': \"nightclub\"}\n",
    "\n",
    "# Extract nightclub in the place boundary and store as a GeoDataFrame\n",
    "gdf_nightclub = ox.geometries.geometries_from_polygon(place.geometry.iloc[0], tag_nightclub)\n",
    "\n",
    "gdf_nightclub.to_csv(\"Data_2.0/nightclub.csv\")    "
   ]
  },
  {
   "cell_type": "markdown",
   "id": "7423a058-08cc-4c05-9a69-6ffa37650e1d",
   "metadata": {
    "tags": []
   },
   "source": [
    "## Suppermarket"
   ]
  },
  {
   "cell_type": "code",
   "execution_count": 8,
   "id": "3731713f-98b6-4c51-ba94-edfaac446fc8",
   "metadata": {
    "tags": []
   },
   "outputs": [],
   "source": [
    "tag_supermarket = {'shop': \"supermarket\"}\n",
    "\n",
    "# Extract supermarket in the place boundary and store as a GeoDataFrame\n",
    "gdf_supermarket = ox.geometries.geometries_from_polygon(place.geometry.iloc[0], tag_supermarket)\n",
    "\n",
    "gdf_supermarket.to_csv(\"Data_2.0/supermarket.csv\")    "
   ]
  },
  {
   "cell_type": "markdown",
   "id": "0b36e171-fe5b-40bc-b61a-b8476b1497d8",
   "metadata": {},
   "source": [
    "## Busstops"
   ]
  },
  {
   "cell_type": "code",
   "execution_count": 12,
   "id": "daa98f12-4f5e-480c-a5bd-76603af8b64f",
   "metadata": {
    "tags": []
   },
   "outputs": [],
   "source": [
    "tag_bus_stop = {'highway': 'bus_stop'}\n",
    "\n",
    "# Extract bus_stop in the place boundary and store as a GeoDataFrame\n",
    "gdf_bus_stop = ox.geometries.geometries_from_polygon(place.geometry.iloc[0], tag_bus_stop)\n",
    "\n",
    "gdf_bus_stop.to_csv(\"Data_2.0/bus_stop.csv\")  "
   ]
  },
  {
   "cell_type": "markdown",
   "id": "20a10ac5-7a97-404d-a056-6d60b7e139fe",
   "metadata": {},
   "source": [
    "## Train stations"
   ]
  },
  {
   "cell_type": "code",
   "execution_count": 13,
   "id": "31964021-f8c8-4980-8c4a-4a04cd6e9b80",
   "metadata": {
    "tags": []
   },
   "outputs": [],
   "source": [
    "## This includes NS trains and Metro's in Amsterdam"
   ]
  },
  {
   "cell_type": "code",
   "execution_count": 14,
   "id": "f2a34826-2ab5-481f-b6e2-0d8f1c6eeb0c",
   "metadata": {
    "tags": []
   },
   "outputs": [],
   "source": [
    "tag_train_station = {'railway': 'station'}\n",
    "\n",
    "# Extract bus_stop in the place boundary and store as a GeoDataFrame\n",
    "gdf_train_station = ox.geometries.geometries_from_polygon(place.geometry.iloc[0], tag_train_station)\n",
    "\n",
    "gdf_train_station.to_csv(\"Data_2.0/train_stations.csv\")  "
   ]
  }
 ],
 "metadata": {
  "kernelspec": {
   "display_name": "Python 3 (ipykernel)",
   "language": "python",
   "name": "python3"
  },
  "language_info": {
   "codemirror_mode": {
    "name": "ipython",
    "version": 3
   },
   "file_extension": ".py",
   "mimetype": "text/x-python",
   "name": "python",
   "nbconvert_exporter": "python",
   "pygments_lexer": "ipython3",
   "version": "3.10.9"
  }
 },
 "nbformat": 4,
 "nbformat_minor": 5
}
