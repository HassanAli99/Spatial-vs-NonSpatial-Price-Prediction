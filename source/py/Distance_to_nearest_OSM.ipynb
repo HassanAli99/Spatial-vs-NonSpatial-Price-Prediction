{
 "cells": [
  {
   "cell_type": "markdown",
   "id": "422721ff-a5bf-42d9-9b12-9f9eda6153a0",
   "metadata": {
    "tags": []
   },
   "source": [
    "# Calculate distance to Facilities and add to Listings"
   ]
  },
  {
   "cell_type": "markdown",
   "id": "2c2801bf-79e4-46f5-a5f6-adca239f591c",
   "metadata": {
    "tags": []
   },
   "source": [
    "**Note the osm data and the listings data have both been transformed to have the same coordinate reference system \"ESPG:28992\"**"
   ]
  },
  {
   "cell_type": "code",
   "execution_count": 2,
   "id": "1d5f7468-4f48-4b3f-8c10-2974bd26165c",
   "metadata": {
    "tags": []
   },
   "outputs": [
    {
     "name": "stderr",
     "output_type": "stream",
     "text": [
      "C:\\Users\\hassa\\AppData\\Local\\Temp\\ipykernel_11344\\3147119002.py:1: UserWarning: Shapely 2.0 is installed, but because PyGEOS is also installed, GeoPandas will still use PyGEOS by default for now. To force to use and test Shapely 2.0, you have to set the environment variable USE_PYGEOS=0. You can do this before starting the Python process, or in your code before importing geopandas:\n",
      "\n",
      "import os\n",
      "os.environ['USE_PYGEOS'] = '0'\n",
      "import geopandas\n",
      "\n",
      "In a future release, GeoPandas will switch to using Shapely by default. If you are using PyGEOS directly (calling PyGEOS functions on geometries from GeoPandas), this will then stop working and you are encouraged to migrate from PyGEOS to Shapely 2.0 (https://shapely.readthedocs.io/en/latest/migration_pygeos.html).\n",
      "  import geopandas as gpd\n"
     ]
    }
   ],
   "source": [
    "import geopandas as gpd\n",
    "from shapely.ops import nearest_points\n",
    "from shapely.geometry import Point, LineString"
   ]
  },
  {
   "cell_type": "code",
   "execution_count": 10,
   "id": "e2f375b8-1c46-43c9-8d8f-251b31ebe8be",
   "metadata": {
    "tags": []
   },
   "outputs": [],
   "source": [
    "# Read in the shapefiles\n",
    "airbnb = gpd.read_file('Data_2.0/listings.shp')\n",
    "\n",
    "# Read in file with the point data \n",
    "restaurants = gpd.read_file('Data_2.0/Restaurants.shp')\n",
    "nightclubs = gpd.read_file('Data_2.0/nightclubs.shp')\n",
    "Suppermarkets = gpd.read_file('Data_2.0/Suppermarkets.shp')\n",
    "parks_osm = gpd.read_file('Data_2.0/parks_osm.shp')\n",
    "\n",
    "#Travel\n",
    "train_stations = gpd.read_file('Data_2.0/train_stations.shp')\n",
    "bus_stops = gpd.read_file('Data_2.0/bus_stops.shp')\n",
    "bicycle_rental = gpd.read_file('Data_2.0/bicycle_rental.shp')\n",
    "\n",
    "#Create list of amenity_df\n",
    "ls_amenity_df = [restaurants, nightclubs, Suppermarkets, parks_osm, train_stations, bus_stops, bicycle_rental]\n",
    "\n",
    "#amenity name\n",
    "amenity_names = [\"restaurant\", \"nightclub\", \"Suppermarket\", \"park\", \"train_station\", \"bus_stops\", \"bicycle_rental\"]"
   ]
  },
  {
   "cell_type": "code",
   "execution_count": 11,
   "id": "9024736c-a46e-48c9-a762-d86ec9a52f66",
   "metadata": {
    "tags": []
   },
   "outputs": [],
   "source": [
    "import geopandas as gpd\n",
    "from shapely.ops import nearest_points\n",
    "from shapely.geometry import Point, MultiPoint, LineString\n",
    "\n",
    "def calculate_nearest_amenities(airbnb_df, amenity_dfs, amenity_names):\n",
    "    # Loop through each amenity dataframe and amenity name\n",
    "    for amenity_df, amenity_name in zip(amenity_dfs, amenity_names):\n",
    "        # Create an empty column in the Airbnb dataframe to store the distances\n",
    "        airbnb_df[f'distance_to_{amenity_name}'] = None\n",
    "        \n",
    "        # Loop through each Airbnb listing\n",
    "        for i, airbnb_row in airbnb_df.iterrows():\n",
    "            # Create a shapely point object from the Airbnb listing's geometry\n",
    "            airbnb_point = airbnb_row.geometry\n",
    "            \n",
    "            # Calculate the distance between the Airbnb listing and the nearest amenity\n",
    "            nearest_amenity_points = nearest_points(airbnb_point, amenity_df.geometry.unary_union)\n",
    "            if isinstance(nearest_amenity_points[1], Point):\n",
    "                # If the nearest amenity has only one point, calculate the distance between the Airbnb listing and that point\n",
    "                distance = LineString([airbnb_point, nearest_amenity_points[1]]).length\n",
    "            else:\n",
    "                # If the nearest amenity has multiple points, calculate the distance between the Airbnb listing and the nearest\n",
    "                # point of the nearest amenity\n",
    "                nearest_point = nearest_points(airbnb_point, MultiPoint(nearest_amenity_points))[1]\n",
    "                distance = LineString([airbnb_point, nearest_point]).length\n",
    "            \n",
    "            # Store the distance in the 'distance_to_{amenity_name}' column\n",
    "            airbnb_df.at[i, f'distance_to_{amenity_name}'] = distance\n",
    "    \n",
    "    return airbnb_df"
   ]
  },
  {
   "cell_type": "code",
   "execution_count": 12,
   "id": "93c7bc5d-8a23-4f04-ae78-f37412c3f7c2",
   "metadata": {
    "tags": []
   },
   "outputs": [],
   "source": [
    "airbnb_df_amenities = calculate_nearest_amenities(airbnb, ls_amenity_df, amenity_names)"
   ]
  },
  {
   "cell_type": "code",
   "execution_count": 13,
   "id": "006a0633-e8ab-41b6-9c98-1c8912c6ae61",
   "metadata": {
    "tags": []
   },
   "outputs": [
    {
     "data": {
      "text/html": [
       "<div>\n",
       "<style scoped>\n",
       "    .dataframe tbody tr th:only-of-type {\n",
       "        vertical-align: middle;\n",
       "    }\n",
       "\n",
       "    .dataframe tbody tr th {\n",
       "        vertical-align: top;\n",
       "    }\n",
       "\n",
       "    .dataframe thead th {\n",
       "        text-align: right;\n",
       "    }\n",
       "</style>\n",
       "<table border=\"1\" class=\"dataframe\">\n",
       "  <thead>\n",
       "    <tr style=\"text-align: right;\">\n",
       "      <th></th>\n",
       "      <th>id</th>\n",
       "      <th>listing_ur</th>\n",
       "      <th>scrape_id</th>\n",
       "      <th>last_scrap</th>\n",
       "      <th>source</th>\n",
       "      <th>name</th>\n",
       "      <th>descriptio</th>\n",
       "      <th>neighborho</th>\n",
       "      <th>picture_ur</th>\n",
       "      <th>host_id</th>\n",
       "      <th>...</th>\n",
       "      <th>field_79</th>\n",
       "      <th>field_80</th>\n",
       "      <th>geometry</th>\n",
       "      <th>distance_to_restaurant</th>\n",
       "      <th>distance_to_nightclub</th>\n",
       "      <th>distance_to_Suppermarket</th>\n",
       "      <th>distance_to_park</th>\n",
       "      <th>distance_to_train_station</th>\n",
       "      <th>distance_to_bus_stops</th>\n",
       "      <th>distance_to_bicycle_rental</th>\n",
       "    </tr>\n",
       "  </thead>\n",
       "  <tbody>\n",
       "    <tr>\n",
       "      <th>0</th>\n",
       "      <td>528022</td>\n",
       "      <td>https://www.airbnb.com/rooms/528022</td>\n",
       "      <td>20221205143541</td>\n",
       "      <td>2022-12-05</td>\n",
       "      <td>city scrape</td>\n",
       "      <td>Somewhere Else</td>\n",
       "      <td>Highlights&lt;br /&gt;*Located only 5 minutes from C...</td>\n",
       "      <td>None</td>\n",
       "      <td>https://a0.muscache.com/pictures/bf6fa79c-5863...</td>\n",
       "      <td>2594559</td>\n",
       "      <td>...</td>\n",
       "      <td>None</td>\n",
       "      <td>None</td>\n",
       "      <td>POINT (121049.635 489371.211)</td>\n",
       "      <td>117.842544</td>\n",
       "      <td>926.202216</td>\n",
       "      <td>631.183065</td>\n",
       "      <td>346.810401</td>\n",
       "      <td>1575.944918</td>\n",
       "      <td>272.335519</td>\n",
       "      <td>840.656392</td>\n",
       "    </tr>\n",
       "    <tr>\n",
       "      <th>1</th>\n",
       "      <td>2818</td>\n",
       "      <td>https://www.airbnb.com/rooms/2818</td>\n",
       "      <td>20221205143541</td>\n",
       "      <td>2022-12-05</td>\n",
       "      <td>city scrape</td>\n",
       "      <td>Quiet Garden View Room &amp; Super Fast Wi-Fi</td>\n",
       "      <td>Quiet Garden View Room &amp; Super Fast Wi-Fi&lt;br /...</td>\n",
       "      <td>Indische Buurt (\"Indies Neighborhood\") is a ne...</td>\n",
       "      <td>https://a0.muscache.com/pictures/10272854/8dcc...</td>\n",
       "      <td>3159</td>\n",
       "      <td>...</td>\n",
       "      <td>None</td>\n",
       "      <td>None</td>\n",
       "      <td>POINT (124783.464 486366.064)</td>\n",
       "      <td>230.922795</td>\n",
       "      <td>1200.228526</td>\n",
       "      <td>323.632332</td>\n",
       "      <td>510.420063</td>\n",
       "      <td>930.007725</td>\n",
       "      <td>231.353635</td>\n",
       "      <td>539.058052</td>\n",
       "    </tr>\n",
       "    <tr>\n",
       "      <th>2</th>\n",
       "      <td>20168</td>\n",
       "      <td>https://www.airbnb.com/rooms/20168</td>\n",
       "      <td>20221205143541</td>\n",
       "      <td>2022-12-05</td>\n",
       "      <td>previous scrape</td>\n",
       "      <td>Studio with private bathroom in the centre 1</td>\n",
       "      <td>17th century Dutch townhouse in the heart of t...</td>\n",
       "      <td>Located just in between famous central canals....</td>\n",
       "      <td>https://a0.muscache.com/pictures/69979628/fd6a...</td>\n",
       "      <td>59484</td>\n",
       "      <td>...</td>\n",
       "      <td>None</td>\n",
       "      <td>None</td>\n",
       "      <td>POINT (121401.482 486356.768)</td>\n",
       "      <td>140.691875</td>\n",
       "      <td>203.391798</td>\n",
       "      <td>180.047576</td>\n",
       "      <td>588.015693</td>\n",
       "      <td>423.879518</td>\n",
       "      <td>247.540031</td>\n",
       "      <td>290.933778</td>\n",
       "    </tr>\n",
       "    <tr>\n",
       "      <th>3</th>\n",
       "      <td>27886</td>\n",
       "      <td>https://www.airbnb.com/rooms/27886</td>\n",
       "      <td>20221205143541</td>\n",
       "      <td>2022-12-05</td>\n",
       "      <td>city scrape</td>\n",
       "      <td>Romantic, stylish B&amp;B houseboat in canal district</td>\n",
       "      <td>Stylish and romantic houseboat on fantastic hi...</td>\n",
       "      <td>Central, quiet, safe, clean and beautiful.</td>\n",
       "      <td>https://a0.muscache.com/pictures/02c2da9d-660e...</td>\n",
       "      <td>97647</td>\n",
       "      <td>...</td>\n",
       "      <td>None</td>\n",
       "      <td>None</td>\n",
       "      <td>POINT (121279.753 488976.855)</td>\n",
       "      <td>61.19738</td>\n",
       "      <td>843.206587</td>\n",
       "      <td>611.931839</td>\n",
       "      <td>223.284618</td>\n",
       "      <td>1119.700723</td>\n",
       "      <td>161.951809</td>\n",
       "      <td>384.107011</td>\n",
       "    </tr>\n",
       "    <tr>\n",
       "      <th>4</th>\n",
       "      <td>28871</td>\n",
       "      <td>https://www.airbnb.com/rooms/28871</td>\n",
       "      <td>20221205143541</td>\n",
       "      <td>2022-12-05</td>\n",
       "      <td>city scrape</td>\n",
       "      <td>Comfortable double room</td>\n",
       "      <td>&lt;b&gt;The space&lt;/b&gt;&lt;br /&gt;In a monumental house ri...</td>\n",
       "      <td>Flower market , Leidseplein , Rembrantsplein</td>\n",
       "      <td>https://a0.muscache.com/pictures/160889/362340...</td>\n",
       "      <td>124245</td>\n",
       "      <td>...</td>\n",
       "      <td>None</td>\n",
       "      <td>None</td>\n",
       "      <td>POINT (121199.267 486767.616)</td>\n",
       "      <td>30.732054</td>\n",
       "      <td>58.740119</td>\n",
       "      <td>256.434528</td>\n",
       "      <td>877.595509</td>\n",
       "      <td>785.871827</td>\n",
       "      <td>206.054152</td>\n",
       "      <td>332.740755</td>\n",
       "    </tr>\n",
       "  </tbody>\n",
       "</table>\n",
       "<p>5 rows × 88 columns</p>\n",
       "</div>"
      ],
      "text/plain": [
       "       id                           listing_ur       scrape_id  last_scrap  \\\n",
       "0  528022  https://www.airbnb.com/rooms/528022  20221205143541  2022-12-05   \n",
       "1    2818    https://www.airbnb.com/rooms/2818  20221205143541  2022-12-05   \n",
       "2   20168   https://www.airbnb.com/rooms/20168  20221205143541  2022-12-05   \n",
       "3   27886   https://www.airbnb.com/rooms/27886  20221205143541  2022-12-05   \n",
       "4   28871   https://www.airbnb.com/rooms/28871  20221205143541  2022-12-05   \n",
       "\n",
       "            source                                               name  \\\n",
       "0      city scrape                                     Somewhere Else   \n",
       "1      city scrape          Quiet Garden View Room & Super Fast Wi-Fi   \n",
       "2  previous scrape       Studio with private bathroom in the centre 1   \n",
       "3      city scrape  Romantic, stylish B&B houseboat in canal district   \n",
       "4      city scrape                            Comfortable double room   \n",
       "\n",
       "                                          descriptio  \\\n",
       "0  Highlights<br />*Located only 5 minutes from C...   \n",
       "1  Quiet Garden View Room & Super Fast Wi-Fi<br /...   \n",
       "2  17th century Dutch townhouse in the heart of t...   \n",
       "3  Stylish and romantic houseboat on fantastic hi...   \n",
       "4  <b>The space</b><br />In a monumental house ri...   \n",
       "\n",
       "                                          neighborho  \\\n",
       "0                                               None   \n",
       "1  Indische Buurt (\"Indies Neighborhood\") is a ne...   \n",
       "2  Located just in between famous central canals....   \n",
       "3         Central, quiet, safe, clean and beautiful.   \n",
       "4       Flower market , Leidseplein , Rembrantsplein   \n",
       "\n",
       "                                          picture_ur  host_id  ... field_79  \\\n",
       "0  https://a0.muscache.com/pictures/bf6fa79c-5863...  2594559  ...     None   \n",
       "1  https://a0.muscache.com/pictures/10272854/8dcc...     3159  ...     None   \n",
       "2  https://a0.muscache.com/pictures/69979628/fd6a...    59484  ...     None   \n",
       "3  https://a0.muscache.com/pictures/02c2da9d-660e...    97647  ...     None   \n",
       "4  https://a0.muscache.com/pictures/160889/362340...   124245  ...     None   \n",
       "\n",
       "  field_80                       geometry distance_to_restaurant  \\\n",
       "0     None  POINT (121049.635 489371.211)             117.842544   \n",
       "1     None  POINT (124783.464 486366.064)             230.922795   \n",
       "2     None  POINT (121401.482 486356.768)             140.691875   \n",
       "3     None  POINT (121279.753 488976.855)               61.19738   \n",
       "4     None  POINT (121199.267 486767.616)              30.732054   \n",
       "\n",
       "  distance_to_nightclub distance_to_Suppermarket distance_to_park  \\\n",
       "0            926.202216               631.183065       346.810401   \n",
       "1           1200.228526               323.632332       510.420063   \n",
       "2            203.391798               180.047576       588.015693   \n",
       "3            843.206587               611.931839       223.284618   \n",
       "4             58.740119               256.434528       877.595509   \n",
       "\n",
       "  distance_to_train_station distance_to_bus_stops distance_to_bicycle_rental  \n",
       "0               1575.944918            272.335519                 840.656392  \n",
       "1                930.007725            231.353635                 539.058052  \n",
       "2                423.879518            247.540031                 290.933778  \n",
       "3               1119.700723            161.951809                 384.107011  \n",
       "4                785.871827            206.054152                 332.740755  \n",
       "\n",
       "[5 rows x 88 columns]"
      ]
     },
     "execution_count": 13,
     "metadata": {},
     "output_type": "execute_result"
    }
   ],
   "source": [
    "airbnb_df_amenities.head()"
   ]
  },
  {
   "cell_type": "code",
   "execution_count": 14,
   "id": "2ff57351-1865-4202-924b-93fc8d73da00",
   "metadata": {
    "tags": []
   },
   "outputs": [
    {
     "data": {
      "text/plain": [
       "<Derived Projected CRS: EPSG:28992>\n",
       "Name: Amersfoort / RD New\n",
       "Axis Info [cartesian]:\n",
       "- [east]: Easting (metre)\n",
       "- [north]: Northing (metre)\n",
       "Area of Use:\n",
       "- undefined\n",
       "Coordinate Operation:\n",
       "- name: unnamed\n",
       "- method: Oblique Stereographic\n",
       "Datum: Amersfoort\n",
       "- Ellipsoid: Bessel 1841\n",
       "- Prime Meridian: Greenwich"
      ]
     },
     "execution_count": 14,
     "metadata": {},
     "output_type": "execute_result"
    }
   ],
   "source": [
    "airbnb_df_amenities.crs"
   ]
  },
  {
   "cell_type": "code",
   "execution_count": null,
   "id": "3d0cbe69-2753-433b-95b7-d94d925ad379",
   "metadata": {
    "tags": []
   },
   "outputs": [],
   "source": [
    "#airbnb_df_amenities.to_csv(\"Data/airbnb_df_amenities.csv\")"
   ]
  }
 ],
 "metadata": {
  "kernelspec": {
   "display_name": "Python 3 (ipykernel)",
   "language": "python",
   "name": "python3"
  },
  "language_info": {
   "codemirror_mode": {
    "name": "ipython",
    "version": 3
   },
   "file_extension": ".py",
   "mimetype": "text/x-python",
   "name": "python",
   "nbconvert_exporter": "python",
   "pygments_lexer": "ipython3",
   "version": "3.10.9"
  }
 },
 "nbformat": 4,
 "nbformat_minor": 5
}
