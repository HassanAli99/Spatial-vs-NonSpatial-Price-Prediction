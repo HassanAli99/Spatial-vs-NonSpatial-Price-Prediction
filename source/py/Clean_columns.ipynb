{
 "cells": [
  {
   "cell_type": "code",
   "execution_count": 3,
   "id": "4d5acb68-ac63-4f1e-8dbd-e0185fb407c4",
   "metadata": {
    "tags": []
   },
   "outputs": [],
   "source": [
    "import geopandas as gpd\n",
    "import pandas as pd\n",
    "from geopy.geocoders import Nominatim\n",
    "from geopy.distance import geodesic\n",
    "from shapely.geometry import Point, LineString"
   ]
  },
  {
   "cell_type": "code",
   "execution_count": 2,
   "id": "e357c8d5-d708-43d7-aadd-65fb07e919c0",
   "metadata": {
    "tags": []
   },
   "outputs": [],
   "source": [
    "file = \"Data_2.0/airbnb_combined_all.csv\""
   ]
  },
  {
   "cell_type": "code",
   "execution_count": 5,
   "id": "0cbd47fe-af5d-4e75-b1c1-53afef097cc0",
   "metadata": {
    "tags": []
   },
   "outputs": [],
   "source": [
    "#df_airbnb_combined = pd.read_csv(file)"
   ]
  },
  {
   "cell_type": "code",
   "execution_count": null,
   "id": "49ad1e00-1bcf-472b-8bb2-c0d630942827",
   "metadata": {
    "tags": []
   },
   "outputs": [],
   "source": [
    "df_airbnb_combined.columns"
   ]
  },
  {
   "cell_type": "code",
   "execution_count": 6,
   "id": "39e0a0ce-fa6e-40c2-a06b-807bf2b90f3d",
   "metadata": {
    "tags": []
   },
   "outputs": [],
   "source": [
    "old_col_names = [\"distance_t\", \"distance_1\",\"distance_2\", \"distance_4\",\"distance_5\", \"distance_6\", \"distance_7\", \"HubDist\"]\n",
    "new_col_names = [\"restaurant\", \"nightclub\",\"suppermarket\", \"park\",\"trainstation\", \"busstop\", \"bicycle_rental\", \"city_center\"]"
   ]
  },
  {
   "cell_type": "code",
   "execution_count": 7,
   "id": "b820fc3e-5688-4921-b2b0-22f8d599e679",
   "metadata": {
    "tags": []
   },
   "outputs": [],
   "source": [
    "col_dict = {old_name: new_name for old_name, new_name in zip(old_col_names, new_col_names)}"
   ]
  },
  {
   "cell_type": "code",
   "execution_count": 8,
   "id": "d00f2240-78ba-4b1c-a972-fcf4067ffdb1",
   "metadata": {
    "tags": []
   },
   "outputs": [],
   "source": [
    "# rename columns using the dictionary\n",
    "df = df_airbnb_combined.rename(columns=col_dict)"
   ]
  },
  {
   "cell_type": "code",
   "execution_count": 9,
   "id": "ac676cbf-0e09-4574-a3b1-0e99d7975a2d",
   "metadata": {
    "tags": []
   },
   "outputs": [
    {
     "data": {
      "text/html": [
       "<div>\n",
       "<style scoped>\n",
       "    .dataframe tbody tr th:only-of-type {\n",
       "        vertical-align: middle;\n",
       "    }\n",
       "\n",
       "    .dataframe tbody tr th {\n",
       "        vertical-align: top;\n",
       "    }\n",
       "\n",
       "    .dataframe thead th {\n",
       "        text-align: right;\n",
       "    }\n",
       "</style>\n",
       "<table border=\"1\" class=\"dataframe\">\n",
       "  <thead>\n",
       "    <tr style=\"text-align: right;\">\n",
       "      <th></th>\n",
       "      <th>field_1</th>\n",
       "      <th>id</th>\n",
       "      <th>listing_ur</th>\n",
       "      <th>scrape_id</th>\n",
       "      <th>last_scrap</th>\n",
       "      <th>source</th>\n",
       "      <th>name</th>\n",
       "      <th>descriptio</th>\n",
       "      <th>neighborho</th>\n",
       "      <th>picture_ur</th>\n",
       "      <th>...</th>\n",
       "      <th>bicycle_rental</th>\n",
       "      <th>field_91</th>\n",
       "      <th>field_92</th>\n",
       "      <th>HubName</th>\n",
       "      <th>city_center</th>\n",
       "      <th>Wijkcode</th>\n",
       "      <th>Wijk</th>\n",
       "      <th>culture_to</th>\n",
       "      <th>public_gre</th>\n",
       "      <th>Safety_ind</th>\n",
       "    </tr>\n",
       "  </thead>\n",
       "  <tbody>\n",
       "    <tr>\n",
       "      <th>0</th>\n",
       "      <td>322</td>\n",
       "      <td>2763037</td>\n",
       "      <td>https://www.airbnb.com/rooms/2763037</td>\n",
       "      <td>20221205143541</td>\n",
       "      <td>2022-12-05</td>\n",
       "      <td>city scrape</td>\n",
       "      <td>Beautiful Canal Apartment</td>\n",
       "      <td>In the historic heart of Amsterdam, this groun...</td>\n",
       "      <td>NaN</td>\n",
       "      <td>https://a0.muscache.com/pictures/80420984/281e...</td>\n",
       "      <td>...</td>\n",
       "      <td>99.739597</td>\n",
       "      <td>NaN</td>\n",
       "      <td>NaN</td>\n",
       "      <td>0</td>\n",
       "      <td>311.012598</td>\n",
       "      <td>AC</td>\n",
       "      <td>Grachtengordel-West</td>\n",
       "      <td>19.0</td>\n",
       "      <td>0.0</td>\n",
       "      <td>86.0</td>\n",
       "    </tr>\n",
       "    <tr>\n",
       "      <th>1</th>\n",
       "      <td>348</td>\n",
       "      <td>2977065</td>\n",
       "      <td>https://www.airbnb.com/rooms/2977065</td>\n",
       "      <td>20221205143541</td>\n",
       "      <td>2022-12-05</td>\n",
       "      <td>city scrape</td>\n",
       "      <td>Beautiful &amp; light Apt on canal</td>\n",
       "      <td>My apartment is situated in the heart of sizzl...</td>\n",
       "      <td>NaN</td>\n",
       "      <td>https://a0.muscache.com/pictures/miso/Hosting-...</td>\n",
       "      <td>...</td>\n",
       "      <td>119.334196</td>\n",
       "      <td>NaN</td>\n",
       "      <td>NaN</td>\n",
       "      <td>0</td>\n",
       "      <td>365.638058</td>\n",
       "      <td>AC</td>\n",
       "      <td>Grachtengordel-West</td>\n",
       "      <td>19.0</td>\n",
       "      <td>0.0</td>\n",
       "      <td>86.0</td>\n",
       "    </tr>\n",
       "    <tr>\n",
       "      <th>2</th>\n",
       "      <td>474</td>\n",
       "      <td>4035170</td>\n",
       "      <td>https://www.airbnb.com/rooms/4035170</td>\n",
       "      <td>20221205143541</td>\n",
       "      <td>2022-12-05</td>\n",
       "      <td>city scrape</td>\n",
       "      <td>White Houseboat Prinsengracht</td>\n",
       "      <td>&lt;b&gt;The space&lt;/b&gt;&lt;br /&gt;From the houseboat you a...</td>\n",
       "      <td>The area is full of shops and restaurants. It ...</td>\n",
       "      <td>https://a0.muscache.com/pictures/50727559/e5a3...</td>\n",
       "      <td>...</td>\n",
       "      <td>411.013878</td>\n",
       "      <td>NaN</td>\n",
       "      <td>NaN</td>\n",
       "      <td>0</td>\n",
       "      <td>662.156494</td>\n",
       "      <td>AC</td>\n",
       "      <td>Grachtengordel-West</td>\n",
       "      <td>19.0</td>\n",
       "      <td>0.0</td>\n",
       "      <td>86.0</td>\n",
       "    </tr>\n",
       "    <tr>\n",
       "      <th>3</th>\n",
       "      <td>563</td>\n",
       "      <td>4721743</td>\n",
       "      <td>https://www.airbnb.com/rooms/4721743</td>\n",
       "      <td>20221205143541</td>\n",
       "      <td>2022-12-05</td>\n",
       "      <td>city scrape</td>\n",
       "      <td>City Centre Room with Bathroom w.Tub. Roof Ter...</td>\n",
       "      <td>Cosy room with a very comfortable king sized b...</td>\n",
       "      <td>The Jordaan is the most popular city centre di...</td>\n",
       "      <td>https://a0.muscache.com/pictures/dd64c9ce-acea...</td>\n",
       "      <td>...</td>\n",
       "      <td>168.971133</td>\n",
       "      <td>NaN</td>\n",
       "      <td>NaN</td>\n",
       "      <td>0</td>\n",
       "      <td>636.367643</td>\n",
       "      <td>AC</td>\n",
       "      <td>Grachtengordel-West</td>\n",
       "      <td>19.0</td>\n",
       "      <td>0.0</td>\n",
       "      <td>86.0</td>\n",
       "    </tr>\n",
       "    <tr>\n",
       "      <th>4</th>\n",
       "      <td>641</td>\n",
       "      <td>5617321</td>\n",
       "      <td>https://www.airbnb.com/rooms/5617321</td>\n",
       "      <td>20221205143541</td>\n",
       "      <td>2022-12-05</td>\n",
       "      <td>city scrape</td>\n",
       "      <td>Gold Alley Apartment</td>\n",
       "      <td>+++EXTRA CORONA INFO+++ &lt;br /&gt;&lt;br /&gt; 1. More f...</td>\n",
       "      <td>During the 'Golden Century', a gold bank stood...</td>\n",
       "      <td>https://a0.muscache.com/pictures/81251331/0543...</td>\n",
       "      <td>...</td>\n",
       "      <td>193.536621</td>\n",
       "      <td>NaN</td>\n",
       "      <td>NaN</td>\n",
       "      <td>0</td>\n",
       "      <td>294.944873</td>\n",
       "      <td>AC</td>\n",
       "      <td>Grachtengordel-West</td>\n",
       "      <td>19.0</td>\n",
       "      <td>0.0</td>\n",
       "      <td>86.0</td>\n",
       "    </tr>\n",
       "  </tbody>\n",
       "</table>\n",
       "<p>5 rows × 99 columns</p>\n",
       "</div>"
      ],
      "text/plain": [
       "   field_1       id                            listing_ur       scrape_id  \\\n",
       "0      322  2763037  https://www.airbnb.com/rooms/2763037  20221205143541   \n",
       "1      348  2977065  https://www.airbnb.com/rooms/2977065  20221205143541   \n",
       "2      474  4035170  https://www.airbnb.com/rooms/4035170  20221205143541   \n",
       "3      563  4721743  https://www.airbnb.com/rooms/4721743  20221205143541   \n",
       "4      641  5617321  https://www.airbnb.com/rooms/5617321  20221205143541   \n",
       "\n",
       "   last_scrap       source                                               name  \\\n",
       "0  2022-12-05  city scrape                          Beautiful Canal Apartment   \n",
       "1  2022-12-05  city scrape                     Beautiful & light Apt on canal   \n",
       "2  2022-12-05  city scrape                      White Houseboat Prinsengracht   \n",
       "3  2022-12-05  city scrape  City Centre Room with Bathroom w.Tub. Roof Ter...   \n",
       "4  2022-12-05  city scrape                               Gold Alley Apartment   \n",
       "\n",
       "                                          descriptio  \\\n",
       "0  In the historic heart of Amsterdam, this groun...   \n",
       "1  My apartment is situated in the heart of sizzl...   \n",
       "2  <b>The space</b><br />From the houseboat you a...   \n",
       "3  Cosy room with a very comfortable king sized b...   \n",
       "4  +++EXTRA CORONA INFO+++ <br /><br /> 1. More f...   \n",
       "\n",
       "                                          neighborho  \\\n",
       "0                                                NaN   \n",
       "1                                                NaN   \n",
       "2  The area is full of shops and restaurants. It ...   \n",
       "3  The Jordaan is the most popular city centre di...   \n",
       "4  During the 'Golden Century', a gold bank stood...   \n",
       "\n",
       "                                          picture_ur  ...  bicycle_rental  \\\n",
       "0  https://a0.muscache.com/pictures/80420984/281e...  ...       99.739597   \n",
       "1  https://a0.muscache.com/pictures/miso/Hosting-...  ...      119.334196   \n",
       "2  https://a0.muscache.com/pictures/50727559/e5a3...  ...      411.013878   \n",
       "3  https://a0.muscache.com/pictures/dd64c9ce-acea...  ...      168.971133   \n",
       "4  https://a0.muscache.com/pictures/81251331/0543...  ...      193.536621   \n",
       "\n",
       "  field_91 field_92 HubName city_center Wijkcode                 Wijk  \\\n",
       "0      NaN      NaN       0  311.012598       AC  Grachtengordel-West   \n",
       "1      NaN      NaN       0  365.638058       AC  Grachtengordel-West   \n",
       "2      NaN      NaN       0  662.156494       AC  Grachtengordel-West   \n",
       "3      NaN      NaN       0  636.367643       AC  Grachtengordel-West   \n",
       "4      NaN      NaN       0  294.944873       AC  Grachtengordel-West   \n",
       "\n",
       "  culture_to public_gre Safety_ind  \n",
       "0       19.0        0.0       86.0  \n",
       "1       19.0        0.0       86.0  \n",
       "2       19.0        0.0       86.0  \n",
       "3       19.0        0.0       86.0  \n",
       "4       19.0        0.0       86.0  \n",
       "\n",
       "[5 rows x 99 columns]"
      ]
     },
     "execution_count": 9,
     "metadata": {},
     "output_type": "execute_result"
    }
   ],
   "source": [
    "df.head()"
   ]
  }
 ],
 "metadata": {
  "kernelspec": {
   "display_name": "Python 3 (ipykernel)",
   "language": "python",
   "name": "python3"
  },
  "language_info": {
   "codemirror_mode": {
    "name": "ipython",
    "version": 3
   },
   "file_extension": ".py",
   "mimetype": "text/x-python",
   "name": "python",
   "nbconvert_exporter": "python",
   "pygments_lexer": "ipython3",
   "version": "3.10.9"
  }
 },
 "nbformat": 4,
 "nbformat_minor": 5
}
